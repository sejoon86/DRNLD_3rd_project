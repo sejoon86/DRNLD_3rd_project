{
 "cells": [
  {
   "cell_type": "markdown",
   "metadata": {},
   "source": [
    "# Learning Algorithm"
   ]
  },
  {
   "cell_type": "markdown",
   "metadata": {},
   "source": [
    "## Model Architecture\n",
    "\n",
    "#### (1) Actor (Policy) Model\n",
    "\n",
    "* Linear(state_size = 24, 400)\n",
    "* ReLU\n",
    "* Linear(400, 300)\n",
    "* ReLU\n",
    "* Linear(300, action_size = 2)\n",
    "* tanh\n",
    "\n",
    "\n",
    "\n",
    "#### (2) Critic (Value) Model\n",
    "\n",
    "* Linear(state_size = 24, 400)\n",
    "* Batch Norm (1D)\n",
    "* ReLU\n",
    "* Linear(400 + action_size = 2, 300) :: action vector added to input\n",
    "* ReLU\n",
    "* Linear(300, 1)\n",
    "\n",
    "\n",
    "### Optimizer\n",
    "* actor optimizer : Adam w/ LR = 0.0001, weight_decay = 0\n",
    "* critic optimizer : Adam w/ LR = 0.001, weight_decay = 0\n",
    "\n",
    "### Hyperparameters\n",
    "\n",
    "* BUFFER_SIZE = 100000    # replay buffer size  \n",
    "* BATCH_SIZE = 256        # minibatch size   \n",
    "* GAMMA = 0.99            # discount factor\n",
    "* TAU = 0.001             # for soft update of target parameters\n",
    "* LR_ACTOR = 0.0001       # learning rate of the actor \n",
    "* LR_CRITIC = 0.001       # learning rate of the critic\n",
    "* WEIGHT_DECAY = 0        # L2 weight decay\n",
    "\n",
    "\n",
    "* (OUNoise) theta = 0.15\n",
    "* (OUNoise) sigma = 0.2\n"
   ]
  },
  {
   "cell_type": "code",
   "execution_count": null,
   "metadata": {},
   "outputs": [],
   "source": []
  },
  {
   "cell_type": "markdown",
   "metadata": {},
   "source": [
    "# Results"
   ]
  },
  {
   "cell_type": "code",
   "execution_count": 3,
   "metadata": {},
   "outputs": [
    {
     "name": "stdout",
     "output_type": "stream",
     "text": [
      "it took 2662 episodes for the DDPG agent to solve the problem\n"
     ]
    },
    {
     "name": "stderr",
     "output_type": "stream",
     "text": [
      "C:\\ProgramData\\Anaconda3\\lib\\site-packages\\ipykernel_launcher.py:9: RuntimeWarning: Mean of empty slice.\n",
      "  if __name__ == '__main__':\n"
     ]
    },
    {
     "data": {
      "image/png": "[encoded data removed]",
      "text/plain": [
       "<Figure size 432x288 with 1 Axes>"
      ]
     },
     "metadata": {
      "needs_background": "light"
     },
     "output_type": "display_data"
    }
   ],
   "source": [
    "import matplotlib.pyplot as plt\n",
    "#matplotlib inline\n",
    "import numpy as np\n",
    "\n",
    "\n",
    "#DDPG_score = np.genfromtxt('scores_' + str(N) + '.csv')\n",
    "#DDPG_score = np.loadtxt('scores_' + str(N) + '.csv', delimiter=\"\\n\", dtype=np.float32)\n",
    "DDPG_score = np.genfromtxt('scores.csv')\n",
    "avg_DDPG_score = [DDPG_score[idx-100:idx].mean() for idx in range(len(DDPG_score))]\n",
    "\n",
    "\n",
    "plt.plot(DDPG_score, label='score')\n",
    "plt.plot(avg_DDPG_score,'--', label='100 eps. avg score')\n",
    "plt.title('DDPG')\n",
    "plt.xlabel('# of episodes')\n",
    "plt.ylabel('score')\n",
    "plt.legend()\n",
    "print('it took {} episodes for the DDPG agent to solve the problem'.format(len(DDPG_score)))\n",
    "    \n",
    "plt.grid()\n",
    "#plt.show()\n",
    " "
   ]
  },
  {
   "cell_type": "markdown",
   "metadata": {},
   "source": [
    "#### The DDPG agent solved the problem with 2662 episodes "
   ]
  },
  {
   "cell_type": "markdown",
   "metadata": {},
   "source": [
    "# Ideas for Future Work\n",
    "\n",
    "* \"Swimming\" in the vast space of hyperparameters is a painful job, since it takes a lot of (GPU) time to evaluate a single setting. It would be beneficial to implement an algorithm which randomizes hyperparameters (within a pre-given range) / evaluates (a little bit) / selects a nice set of hyperparameters.  \n",
    "\n",
    "* Extending from the idea above, while automating the process of hyperparameter selecting, the performance comparison of each set could give the user (me) a \"feel\" of how each hyperparameter might impact the overall performance. This would useful for giving the user (again, me) some insight in reinforcement learning.\n",
    "\n",
    "* The sensitivity to seed value seems to be an issue. (If GPU time permits) using multiple seed values to know the statistical/expected performance of the agent.\n",
    "\n",
    "* One of the main goals of DRL is not just to find the best hyperparameters for  a single problem, but to find a set which may do generally well in many problems. Applying the same algorithm structure and same (or similar) hyperparameters to many different RL benchworks would evaluate the algorithm more thoroughly.\n",
    "\n",
    "* (I'm not sure if this work, or already has been done but) after the actor-critic network is converged, in order to reduce computational time when in actual action, a type of transfer learning to a smaller network might be done. Finding a computationaly efficient \"actor\" network at the cost of training time would be justified for some instances.\n"
   ]
  },
  {
   "cell_type": "code",
   "execution_count": null,
   "metadata": {},
   "outputs": [],
   "source": []
  }
 ],
 "metadata": {
  "kernelspec": {
   "display_name": "Python 3",
   "language": "python",
   "name": "python3"
  },
  "language_info": {
   "codemirror_mode": {
    "name": "ipython",
    "version": 3
   },
   "file_extension": ".py",
   "mimetype": "text/x-python",
   "name": "python",
   "nbconvert_exporter": "python",
   "pygments_lexer": "ipython3",
   "version": "3.7.4"
  }
 },
 "nbformat": 4,
 "nbformat_minor": 2
}
